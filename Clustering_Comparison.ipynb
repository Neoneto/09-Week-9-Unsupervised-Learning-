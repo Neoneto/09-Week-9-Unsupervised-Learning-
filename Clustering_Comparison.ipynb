{
  "nbformat": 4,
  "nbformat_minor": 0,
  "metadata": {
    "colab": {
      "name": "Clustering Comparison",
      "provenance": [],
      "authorship_tag": "ABX9TyNADSQ9PGiIRNNhkO2mHRM+",
      "include_colab_link": true
    },
    "kernelspec": {
      "name": "python3",
      "display_name": "Python 3"
    },
    "language_info": {
      "name": "python"
    }
  },
  "cells": [
    {
      "cell_type": "markdown",
      "metadata": {
        "id": "view-in-github",
        "colab_type": "text"
      },
      "source": [
        "<a href=\"https://colab.research.google.com/github/Neoneto/09-Week-9-Unsupervised-Learning-/blob/main/Clustering_Comparison.ipynb\" target=\"_parent\"><img src=\"https://colab.research.google.com/assets/colab-badge.svg\" alt=\"Open In Colab\"/></a>"
      ]
    },
    {
      "cell_type": "markdown",
      "source": [
        "# Clustering Comparison\n",
        "Submitted by Kenneth Alaba\n",
        "\n",
        "\n"
      ],
      "metadata": {
        "id": "4-8P_4mbjU2k"
      }
    },
    {
      "cell_type": "code",
      "execution_count": 85,
      "metadata": {
        "colab": {
          "base_uri": "https://localhost:8080/"
        },
        "id": "6zkY7qhMcVQW",
        "outputId": "3f31603f-1d53-4b64-ad99-73aae82b25bf"
      },
      "outputs": [
        {
          "output_type": "stream",
          "name": "stdout",
          "text": [
            "Drive already mounted at /content/drive; to attempt to forcibly remount, call drive.mount(\"/content/drive\", force_remount=True).\n"
          ]
        }
      ],
      "source": [
        "# Mount the drive\n",
        "from google.colab import drive\n",
        "drive.mount('/content/drive')"
      ]
    },
    {
      "cell_type": "code",
      "source": [
        "# Imports\n",
        "import numpy as np\n",
        "import pandas as pd\n",
        "import matplotlib.pyplot as plt\n",
        "from sklearn.preprocessing import StandardScaler\n",
        "from sklearn.cluster import KMeans, AgglomerativeClustering, DBSCAN\n",
        "from sklearn.metrics import silhouette_score"
      ],
      "metadata": {
        "id": "O__LPSfEcbeh"
      },
      "execution_count": 101,
      "outputs": []
    },
    {
      "cell_type": "code",
      "source": [
        "# Load the dataset\n",
        "df0 = pd.read_csv('/content/drive/My Drive/Coding Dojo/09 Week 9: Unsupervised Learning/cust_seg.csv')\n",
        "df0.head()"
      ],
      "metadata": {
        "colab": {
          "base_uri": "https://localhost:8080/",
          "height": 206
        },
        "id": "QYsAmtQvcmgv",
        "outputId": "c2e34bc4-f9ca-47ce-cfcb-92ac1ca1ad24"
      },
      "execution_count": 87,
      "outputs": [
        {
          "output_type": "execute_result",
          "data": {
            "text/html": [
              "\n",
              "  <div id=\"df-d880dfac-2bc4-44ff-8fea-755723d30410\">\n",
              "    <div class=\"colab-df-container\">\n",
              "      <div>\n",
              "<style scoped>\n",
              "    .dataframe tbody tr th:only-of-type {\n",
              "        vertical-align: middle;\n",
              "    }\n",
              "\n",
              "    .dataframe tbody tr th {\n",
              "        vertical-align: top;\n",
              "    }\n",
              "\n",
              "    .dataframe thead th {\n",
              "        text-align: right;\n",
              "    }\n",
              "</style>\n",
              "<table border=\"1\" class=\"dataframe\">\n",
              "  <thead>\n",
              "    <tr style=\"text-align: right;\">\n",
              "      <th></th>\n",
              "      <th>Unnamed: 0</th>\n",
              "      <th>Customer Id</th>\n",
              "      <th>Age</th>\n",
              "      <th>Edu</th>\n",
              "      <th>Years Employed</th>\n",
              "      <th>Income</th>\n",
              "      <th>Card Debt</th>\n",
              "      <th>Other Debt</th>\n",
              "      <th>Defaulted</th>\n",
              "      <th>DebtIncomeRatio</th>\n",
              "    </tr>\n",
              "  </thead>\n",
              "  <tbody>\n",
              "    <tr>\n",
              "      <th>0</th>\n",
              "      <td>0</td>\n",
              "      <td>1</td>\n",
              "      <td>41</td>\n",
              "      <td>2</td>\n",
              "      <td>6</td>\n",
              "      <td>19</td>\n",
              "      <td>0.124</td>\n",
              "      <td>1.073</td>\n",
              "      <td>0.0</td>\n",
              "      <td>6.3</td>\n",
              "    </tr>\n",
              "    <tr>\n",
              "      <th>1</th>\n",
              "      <td>1</td>\n",
              "      <td>2</td>\n",
              "      <td>47</td>\n",
              "      <td>1</td>\n",
              "      <td>26</td>\n",
              "      <td>100</td>\n",
              "      <td>4.582</td>\n",
              "      <td>8.218</td>\n",
              "      <td>0.0</td>\n",
              "      <td>12.8</td>\n",
              "    </tr>\n",
              "    <tr>\n",
              "      <th>2</th>\n",
              "      <td>2</td>\n",
              "      <td>3</td>\n",
              "      <td>33</td>\n",
              "      <td>2</td>\n",
              "      <td>10</td>\n",
              "      <td>57</td>\n",
              "      <td>6.111</td>\n",
              "      <td>5.802</td>\n",
              "      <td>1.0</td>\n",
              "      <td>20.9</td>\n",
              "    </tr>\n",
              "    <tr>\n",
              "      <th>3</th>\n",
              "      <td>3</td>\n",
              "      <td>4</td>\n",
              "      <td>29</td>\n",
              "      <td>2</td>\n",
              "      <td>4</td>\n",
              "      <td>19</td>\n",
              "      <td>0.681</td>\n",
              "      <td>0.516</td>\n",
              "      <td>0.0</td>\n",
              "      <td>6.3</td>\n",
              "    </tr>\n",
              "    <tr>\n",
              "      <th>4</th>\n",
              "      <td>4</td>\n",
              "      <td>5</td>\n",
              "      <td>47</td>\n",
              "      <td>1</td>\n",
              "      <td>31</td>\n",
              "      <td>253</td>\n",
              "      <td>9.308</td>\n",
              "      <td>8.908</td>\n",
              "      <td>0.0</td>\n",
              "      <td>7.2</td>\n",
              "    </tr>\n",
              "  </tbody>\n",
              "</table>\n",
              "</div>\n",
              "      <button class=\"colab-df-convert\" onclick=\"convertToInteractive('df-d880dfac-2bc4-44ff-8fea-755723d30410')\"\n",
              "              title=\"Convert this dataframe to an interactive table.\"\n",
              "              style=\"display:none;\">\n",
              "        \n",
              "  <svg xmlns=\"http://www.w3.org/2000/svg\" height=\"24px\"viewBox=\"0 0 24 24\"\n",
              "       width=\"24px\">\n",
              "    <path d=\"M0 0h24v24H0V0z\" fill=\"none\"/>\n",
              "    <path d=\"M18.56 5.44l.94 2.06.94-2.06 2.06-.94-2.06-.94-.94-2.06-.94 2.06-2.06.94zm-11 1L8.5 8.5l.94-2.06 2.06-.94-2.06-.94L8.5 2.5l-.94 2.06-2.06.94zm10 10l.94 2.06.94-2.06 2.06-.94-2.06-.94-.94-2.06-.94 2.06-2.06.94z\"/><path d=\"M17.41 7.96l-1.37-1.37c-.4-.4-.92-.59-1.43-.59-.52 0-1.04.2-1.43.59L10.3 9.45l-7.72 7.72c-.78.78-.78 2.05 0 2.83L4 21.41c.39.39.9.59 1.41.59.51 0 1.02-.2 1.41-.59l7.78-7.78 2.81-2.81c.8-.78.8-2.07 0-2.86zM5.41 20L4 18.59l7.72-7.72 1.47 1.35L5.41 20z\"/>\n",
              "  </svg>\n",
              "      </button>\n",
              "      \n",
              "  <style>\n",
              "    .colab-df-container {\n",
              "      display:flex;\n",
              "      flex-wrap:wrap;\n",
              "      gap: 12px;\n",
              "    }\n",
              "\n",
              "    .colab-df-convert {\n",
              "      background-color: #E8F0FE;\n",
              "      border: none;\n",
              "      border-radius: 50%;\n",
              "      cursor: pointer;\n",
              "      display: none;\n",
              "      fill: #1967D2;\n",
              "      height: 32px;\n",
              "      padding: 0 0 0 0;\n",
              "      width: 32px;\n",
              "    }\n",
              "\n",
              "    .colab-df-convert:hover {\n",
              "      background-color: #E2EBFA;\n",
              "      box-shadow: 0px 1px 2px rgba(60, 64, 67, 0.3), 0px 1px 3px 1px rgba(60, 64, 67, 0.15);\n",
              "      fill: #174EA6;\n",
              "    }\n",
              "\n",
              "    [theme=dark] .colab-df-convert {\n",
              "      background-color: #3B4455;\n",
              "      fill: #D2E3FC;\n",
              "    }\n",
              "\n",
              "    [theme=dark] .colab-df-convert:hover {\n",
              "      background-color: #434B5C;\n",
              "      box-shadow: 0px 1px 3px 1px rgba(0, 0, 0, 0.15);\n",
              "      filter: drop-shadow(0px 1px 2px rgba(0, 0, 0, 0.3));\n",
              "      fill: #FFFFFF;\n",
              "    }\n",
              "  </style>\n",
              "\n",
              "      <script>\n",
              "        const buttonEl =\n",
              "          document.querySelector('#df-d880dfac-2bc4-44ff-8fea-755723d30410 button.colab-df-convert');\n",
              "        buttonEl.style.display =\n",
              "          google.colab.kernel.accessAllowed ? 'block' : 'none';\n",
              "\n",
              "        async function convertToInteractive(key) {\n",
              "          const element = document.querySelector('#df-d880dfac-2bc4-44ff-8fea-755723d30410');\n",
              "          const dataTable =\n",
              "            await google.colab.kernel.invokeFunction('convertToInteractive',\n",
              "                                                     [key], {});\n",
              "          if (!dataTable) return;\n",
              "\n",
              "          const docLinkHtml = 'Like what you see? Visit the ' +\n",
              "            '<a target=\"_blank\" href=https://colab.research.google.com/notebooks/data_table.ipynb>data table notebook</a>'\n",
              "            + ' to learn more about interactive tables.';\n",
              "          element.innerHTML = '';\n",
              "          dataTable['output_type'] = 'display_data';\n",
              "          await google.colab.output.renderOutput(dataTable, element);\n",
              "          const docLink = document.createElement('div');\n",
              "          docLink.innerHTML = docLinkHtml;\n",
              "          element.appendChild(docLink);\n",
              "        }\n",
              "      </script>\n",
              "    </div>\n",
              "  </div>\n",
              "  "
            ],
            "text/plain": [
              "   Unnamed: 0  Customer Id  Age  ...  Other Debt  Defaulted  DebtIncomeRatio\n",
              "0           0            1   41  ...       1.073        0.0              6.3\n",
              "1           1            2   47  ...       8.218        0.0             12.8\n",
              "2           2            3   33  ...       5.802        1.0             20.9\n",
              "3           3            4   29  ...       0.516        0.0              6.3\n",
              "4           4            5   47  ...       8.908        0.0              7.2\n",
              "\n",
              "[5 rows x 10 columns]"
            ]
          },
          "metadata": {},
          "execution_count": 87
        }
      ]
    },
    {
      "cell_type": "code",
      "source": [
        "# Drop the unnecessary column\n",
        "df = df0.drop(columns = ['Unnamed: 0', 'Customer Id'])\n",
        "df.head()"
      ],
      "metadata": {
        "colab": {
          "base_uri": "https://localhost:8080/",
          "height": 206
        },
        "id": "M30dth0weUH9",
        "outputId": "ce644b80-753a-4623-a1a5-934503aad879"
      },
      "execution_count": 88,
      "outputs": [
        {
          "output_type": "execute_result",
          "data": {
            "text/html": [
              "\n",
              "  <div id=\"df-6a55c70a-24bf-4f3a-9e51-ce46aa928ca7\">\n",
              "    <div class=\"colab-df-container\">\n",
              "      <div>\n",
              "<style scoped>\n",
              "    .dataframe tbody tr th:only-of-type {\n",
              "        vertical-align: middle;\n",
              "    }\n",
              "\n",
              "    .dataframe tbody tr th {\n",
              "        vertical-align: top;\n",
              "    }\n",
              "\n",
              "    .dataframe thead th {\n",
              "        text-align: right;\n",
              "    }\n",
              "</style>\n",
              "<table border=\"1\" class=\"dataframe\">\n",
              "  <thead>\n",
              "    <tr style=\"text-align: right;\">\n",
              "      <th></th>\n",
              "      <th>Age</th>\n",
              "      <th>Edu</th>\n",
              "      <th>Years Employed</th>\n",
              "      <th>Income</th>\n",
              "      <th>Card Debt</th>\n",
              "      <th>Other Debt</th>\n",
              "      <th>Defaulted</th>\n",
              "      <th>DebtIncomeRatio</th>\n",
              "    </tr>\n",
              "  </thead>\n",
              "  <tbody>\n",
              "    <tr>\n",
              "      <th>0</th>\n",
              "      <td>41</td>\n",
              "      <td>2</td>\n",
              "      <td>6</td>\n",
              "      <td>19</td>\n",
              "      <td>0.124</td>\n",
              "      <td>1.073</td>\n",
              "      <td>0.0</td>\n",
              "      <td>6.3</td>\n",
              "    </tr>\n",
              "    <tr>\n",
              "      <th>1</th>\n",
              "      <td>47</td>\n",
              "      <td>1</td>\n",
              "      <td>26</td>\n",
              "      <td>100</td>\n",
              "      <td>4.582</td>\n",
              "      <td>8.218</td>\n",
              "      <td>0.0</td>\n",
              "      <td>12.8</td>\n",
              "    </tr>\n",
              "    <tr>\n",
              "      <th>2</th>\n",
              "      <td>33</td>\n",
              "      <td>2</td>\n",
              "      <td>10</td>\n",
              "      <td>57</td>\n",
              "      <td>6.111</td>\n",
              "      <td>5.802</td>\n",
              "      <td>1.0</td>\n",
              "      <td>20.9</td>\n",
              "    </tr>\n",
              "    <tr>\n",
              "      <th>3</th>\n",
              "      <td>29</td>\n",
              "      <td>2</td>\n",
              "      <td>4</td>\n",
              "      <td>19</td>\n",
              "      <td>0.681</td>\n",
              "      <td>0.516</td>\n",
              "      <td>0.0</td>\n",
              "      <td>6.3</td>\n",
              "    </tr>\n",
              "    <tr>\n",
              "      <th>4</th>\n",
              "      <td>47</td>\n",
              "      <td>1</td>\n",
              "      <td>31</td>\n",
              "      <td>253</td>\n",
              "      <td>9.308</td>\n",
              "      <td>8.908</td>\n",
              "      <td>0.0</td>\n",
              "      <td>7.2</td>\n",
              "    </tr>\n",
              "  </tbody>\n",
              "</table>\n",
              "</div>\n",
              "      <button class=\"colab-df-convert\" onclick=\"convertToInteractive('df-6a55c70a-24bf-4f3a-9e51-ce46aa928ca7')\"\n",
              "              title=\"Convert this dataframe to an interactive table.\"\n",
              "              style=\"display:none;\">\n",
              "        \n",
              "  <svg xmlns=\"http://www.w3.org/2000/svg\" height=\"24px\"viewBox=\"0 0 24 24\"\n",
              "       width=\"24px\">\n",
              "    <path d=\"M0 0h24v24H0V0z\" fill=\"none\"/>\n",
              "    <path d=\"M18.56 5.44l.94 2.06.94-2.06 2.06-.94-2.06-.94-.94-2.06-.94 2.06-2.06.94zm-11 1L8.5 8.5l.94-2.06 2.06-.94-2.06-.94L8.5 2.5l-.94 2.06-2.06.94zm10 10l.94 2.06.94-2.06 2.06-.94-2.06-.94-.94-2.06-.94 2.06-2.06.94z\"/><path d=\"M17.41 7.96l-1.37-1.37c-.4-.4-.92-.59-1.43-.59-.52 0-1.04.2-1.43.59L10.3 9.45l-7.72 7.72c-.78.78-.78 2.05 0 2.83L4 21.41c.39.39.9.59 1.41.59.51 0 1.02-.2 1.41-.59l7.78-7.78 2.81-2.81c.8-.78.8-2.07 0-2.86zM5.41 20L4 18.59l7.72-7.72 1.47 1.35L5.41 20z\"/>\n",
              "  </svg>\n",
              "      </button>\n",
              "      \n",
              "  <style>\n",
              "    .colab-df-container {\n",
              "      display:flex;\n",
              "      flex-wrap:wrap;\n",
              "      gap: 12px;\n",
              "    }\n",
              "\n",
              "    .colab-df-convert {\n",
              "      background-color: #E8F0FE;\n",
              "      border: none;\n",
              "      border-radius: 50%;\n",
              "      cursor: pointer;\n",
              "      display: none;\n",
              "      fill: #1967D2;\n",
              "      height: 32px;\n",
              "      padding: 0 0 0 0;\n",
              "      width: 32px;\n",
              "    }\n",
              "\n",
              "    .colab-df-convert:hover {\n",
              "      background-color: #E2EBFA;\n",
              "      box-shadow: 0px 1px 2px rgba(60, 64, 67, 0.3), 0px 1px 3px 1px rgba(60, 64, 67, 0.15);\n",
              "      fill: #174EA6;\n",
              "    }\n",
              "\n",
              "    [theme=dark] .colab-df-convert {\n",
              "      background-color: #3B4455;\n",
              "      fill: #D2E3FC;\n",
              "    }\n",
              "\n",
              "    [theme=dark] .colab-df-convert:hover {\n",
              "      background-color: #434B5C;\n",
              "      box-shadow: 0px 1px 3px 1px rgba(0, 0, 0, 0.15);\n",
              "      filter: drop-shadow(0px 1px 2px rgba(0, 0, 0, 0.3));\n",
              "      fill: #FFFFFF;\n",
              "    }\n",
              "  </style>\n",
              "\n",
              "      <script>\n",
              "        const buttonEl =\n",
              "          document.querySelector('#df-6a55c70a-24bf-4f3a-9e51-ce46aa928ca7 button.colab-df-convert');\n",
              "        buttonEl.style.display =\n",
              "          google.colab.kernel.accessAllowed ? 'block' : 'none';\n",
              "\n",
              "        async function convertToInteractive(key) {\n",
              "          const element = document.querySelector('#df-6a55c70a-24bf-4f3a-9e51-ce46aa928ca7');\n",
              "          const dataTable =\n",
              "            await google.colab.kernel.invokeFunction('convertToInteractive',\n",
              "                                                     [key], {});\n",
              "          if (!dataTable) return;\n",
              "\n",
              "          const docLinkHtml = 'Like what you see? Visit the ' +\n",
              "            '<a target=\"_blank\" href=https://colab.research.google.com/notebooks/data_table.ipynb>data table notebook</a>'\n",
              "            + ' to learn more about interactive tables.';\n",
              "          element.innerHTML = '';\n",
              "          dataTable['output_type'] = 'display_data';\n",
              "          await google.colab.output.renderOutput(dataTable, element);\n",
              "          const docLink = document.createElement('div');\n",
              "          docLink.innerHTML = docLinkHtml;\n",
              "          element.appendChild(docLink);\n",
              "        }\n",
              "      </script>\n",
              "    </div>\n",
              "  </div>\n",
              "  "
            ],
            "text/plain": [
              "   Age  Edu  Years Employed  ...  Other Debt  Defaulted  DebtIncomeRatio\n",
              "0   41    2               6  ...       1.073        0.0              6.3\n",
              "1   47    1              26  ...       8.218        0.0             12.8\n",
              "2   33    2              10  ...       5.802        1.0             20.9\n",
              "3   29    2               4  ...       0.516        0.0              6.3\n",
              "4   47    1              31  ...       8.908        0.0              7.2\n",
              "\n",
              "[5 rows x 8 columns]"
            ]
          },
          "metadata": {},
          "execution_count": 88
        }
      ]
    },
    {
      "cell_type": "code",
      "source": [
        "df.info()"
      ],
      "metadata": {
        "colab": {
          "base_uri": "https://localhost:8080/"
        },
        "id": "B-3v_vAsdb5I",
        "outputId": "50de2522-f6fd-4539-ee66-f18609901bec"
      },
      "execution_count": 89,
      "outputs": [
        {
          "output_type": "stream",
          "name": "stdout",
          "text": [
            "<class 'pandas.core.frame.DataFrame'>\n",
            "RangeIndex: 850 entries, 0 to 849\n",
            "Data columns (total 8 columns):\n",
            " #   Column           Non-Null Count  Dtype  \n",
            "---  ------           --------------  -----  \n",
            " 0   Age              850 non-null    int64  \n",
            " 1   Edu              850 non-null    int64  \n",
            " 2   Years Employed   850 non-null    int64  \n",
            " 3   Income           850 non-null    int64  \n",
            " 4   Card Debt        850 non-null    float64\n",
            " 5   Other Debt       850 non-null    float64\n",
            " 6   Defaulted        700 non-null    float64\n",
            " 7   DebtIncomeRatio  850 non-null    float64\n",
            "dtypes: float64(4), int64(4)\n",
            "memory usage: 53.2 KB\n"
          ]
        }
      ]
    },
    {
      "cell_type": "code",
      "source": [
        "# Fill mising values in the Defaulted column with the mode\n",
        "df['Defaulted'].fillna(df['Defaulted'].mode()[0], inplace = True)"
      ],
      "metadata": {
        "id": "lTlSP9XqdevR"
      },
      "execution_count": 90,
      "outputs": []
    },
    {
      "cell_type": "code",
      "source": [
        "# Scale the data\n",
        "\n",
        "# Instantiate Standard Scaler\n",
        "scaler = StandardScaler()\n",
        "# Fit & transform data.\n",
        "scaled_df = scaler.fit_transform(df)"
      ],
      "metadata": {
        "id": "BB6nH_K1dPtf"
      },
      "execution_count": 91,
      "outputs": []
    },
    {
      "cell_type": "code",
      "source": [
        "# Instantiate KMeans\n",
        "kmeans = KMeans(n_clusters = 2)\n",
        "kmeans.fit(scaled_df)"
      ],
      "metadata": {
        "colab": {
          "base_uri": "https://localhost:8080/"
        },
        "id": "5UY5q-M5dZHe",
        "outputId": "822b970c-9dbc-4896-adc0-de4788c8f728"
      },
      "execution_count": 92,
      "outputs": [
        {
          "output_type": "execute_result",
          "data": {
            "text/plain": [
              "KMeans(n_clusters=2)"
            ]
          },
          "metadata": {},
          "execution_count": 92
        }
      ]
    },
    {
      "cell_type": "code",
      "source": [
        "# Store the cluster in the df\n",
        "df['Cluster'] = kmeans.labels_\n",
        "df.head()"
      ],
      "metadata": {
        "colab": {
          "base_uri": "https://localhost:8080/",
          "height": 206
        },
        "id": "iyFaZZwad9xB",
        "outputId": "0ae37057-aeba-4503-80c6-c6036cfa2f65"
      },
      "execution_count": 93,
      "outputs": [
        {
          "output_type": "execute_result",
          "data": {
            "text/html": [
              "\n",
              "  <div id=\"df-5d4331ba-e48d-4b8e-a1b1-f9b6eabc054b\">\n",
              "    <div class=\"colab-df-container\">\n",
              "      <div>\n",
              "<style scoped>\n",
              "    .dataframe tbody tr th:only-of-type {\n",
              "        vertical-align: middle;\n",
              "    }\n",
              "\n",
              "    .dataframe tbody tr th {\n",
              "        vertical-align: top;\n",
              "    }\n",
              "\n",
              "    .dataframe thead th {\n",
              "        text-align: right;\n",
              "    }\n",
              "</style>\n",
              "<table border=\"1\" class=\"dataframe\">\n",
              "  <thead>\n",
              "    <tr style=\"text-align: right;\">\n",
              "      <th></th>\n",
              "      <th>Age</th>\n",
              "      <th>Edu</th>\n",
              "      <th>Years Employed</th>\n",
              "      <th>Income</th>\n",
              "      <th>Card Debt</th>\n",
              "      <th>Other Debt</th>\n",
              "      <th>Defaulted</th>\n",
              "      <th>DebtIncomeRatio</th>\n",
              "      <th>Cluster</th>\n",
              "    </tr>\n",
              "  </thead>\n",
              "  <tbody>\n",
              "    <tr>\n",
              "      <th>0</th>\n",
              "      <td>41</td>\n",
              "      <td>2</td>\n",
              "      <td>6</td>\n",
              "      <td>19</td>\n",
              "      <td>0.124</td>\n",
              "      <td>1.073</td>\n",
              "      <td>0.0</td>\n",
              "      <td>6.3</td>\n",
              "      <td>1</td>\n",
              "    </tr>\n",
              "    <tr>\n",
              "      <th>1</th>\n",
              "      <td>47</td>\n",
              "      <td>1</td>\n",
              "      <td>26</td>\n",
              "      <td>100</td>\n",
              "      <td>4.582</td>\n",
              "      <td>8.218</td>\n",
              "      <td>0.0</td>\n",
              "      <td>12.8</td>\n",
              "      <td>0</td>\n",
              "    </tr>\n",
              "    <tr>\n",
              "      <th>2</th>\n",
              "      <td>33</td>\n",
              "      <td>2</td>\n",
              "      <td>10</td>\n",
              "      <td>57</td>\n",
              "      <td>6.111</td>\n",
              "      <td>5.802</td>\n",
              "      <td>1.0</td>\n",
              "      <td>20.9</td>\n",
              "      <td>0</td>\n",
              "    </tr>\n",
              "    <tr>\n",
              "      <th>3</th>\n",
              "      <td>29</td>\n",
              "      <td>2</td>\n",
              "      <td>4</td>\n",
              "      <td>19</td>\n",
              "      <td>0.681</td>\n",
              "      <td>0.516</td>\n",
              "      <td>0.0</td>\n",
              "      <td>6.3</td>\n",
              "      <td>1</td>\n",
              "    </tr>\n",
              "    <tr>\n",
              "      <th>4</th>\n",
              "      <td>47</td>\n",
              "      <td>1</td>\n",
              "      <td>31</td>\n",
              "      <td>253</td>\n",
              "      <td>9.308</td>\n",
              "      <td>8.908</td>\n",
              "      <td>0.0</td>\n",
              "      <td>7.2</td>\n",
              "      <td>0</td>\n",
              "    </tr>\n",
              "  </tbody>\n",
              "</table>\n",
              "</div>\n",
              "      <button class=\"colab-df-convert\" onclick=\"convertToInteractive('df-5d4331ba-e48d-4b8e-a1b1-f9b6eabc054b')\"\n",
              "              title=\"Convert this dataframe to an interactive table.\"\n",
              "              style=\"display:none;\">\n",
              "        \n",
              "  <svg xmlns=\"http://www.w3.org/2000/svg\" height=\"24px\"viewBox=\"0 0 24 24\"\n",
              "       width=\"24px\">\n",
              "    <path d=\"M0 0h24v24H0V0z\" fill=\"none\"/>\n",
              "    <path d=\"M18.56 5.44l.94 2.06.94-2.06 2.06-.94-2.06-.94-.94-2.06-.94 2.06-2.06.94zm-11 1L8.5 8.5l.94-2.06 2.06-.94-2.06-.94L8.5 2.5l-.94 2.06-2.06.94zm10 10l.94 2.06.94-2.06 2.06-.94-2.06-.94-.94-2.06-.94 2.06-2.06.94z\"/><path d=\"M17.41 7.96l-1.37-1.37c-.4-.4-.92-.59-1.43-.59-.52 0-1.04.2-1.43.59L10.3 9.45l-7.72 7.72c-.78.78-.78 2.05 0 2.83L4 21.41c.39.39.9.59 1.41.59.51 0 1.02-.2 1.41-.59l7.78-7.78 2.81-2.81c.8-.78.8-2.07 0-2.86zM5.41 20L4 18.59l7.72-7.72 1.47 1.35L5.41 20z\"/>\n",
              "  </svg>\n",
              "      </button>\n",
              "      \n",
              "  <style>\n",
              "    .colab-df-container {\n",
              "      display:flex;\n",
              "      flex-wrap:wrap;\n",
              "      gap: 12px;\n",
              "    }\n",
              "\n",
              "    .colab-df-convert {\n",
              "      background-color: #E8F0FE;\n",
              "      border: none;\n",
              "      border-radius: 50%;\n",
              "      cursor: pointer;\n",
              "      display: none;\n",
              "      fill: #1967D2;\n",
              "      height: 32px;\n",
              "      padding: 0 0 0 0;\n",
              "      width: 32px;\n",
              "    }\n",
              "\n",
              "    .colab-df-convert:hover {\n",
              "      background-color: #E2EBFA;\n",
              "      box-shadow: 0px 1px 2px rgba(60, 64, 67, 0.3), 0px 1px 3px 1px rgba(60, 64, 67, 0.15);\n",
              "      fill: #174EA6;\n",
              "    }\n",
              "\n",
              "    [theme=dark] .colab-df-convert {\n",
              "      background-color: #3B4455;\n",
              "      fill: #D2E3FC;\n",
              "    }\n",
              "\n",
              "    [theme=dark] .colab-df-convert:hover {\n",
              "      background-color: #434B5C;\n",
              "      box-shadow: 0px 1px 3px 1px rgba(0, 0, 0, 0.15);\n",
              "      filter: drop-shadow(0px 1px 2px rgba(0, 0, 0, 0.3));\n",
              "      fill: #FFFFFF;\n",
              "    }\n",
              "  </style>\n",
              "\n",
              "      <script>\n",
              "        const buttonEl =\n",
              "          document.querySelector('#df-5d4331ba-e48d-4b8e-a1b1-f9b6eabc054b button.colab-df-convert');\n",
              "        buttonEl.style.display =\n",
              "          google.colab.kernel.accessAllowed ? 'block' : 'none';\n",
              "\n",
              "        async function convertToInteractive(key) {\n",
              "          const element = document.querySelector('#df-5d4331ba-e48d-4b8e-a1b1-f9b6eabc054b');\n",
              "          const dataTable =\n",
              "            await google.colab.kernel.invokeFunction('convertToInteractive',\n",
              "                                                     [key], {});\n",
              "          if (!dataTable) return;\n",
              "\n",
              "          const docLinkHtml = 'Like what you see? Visit the ' +\n",
              "            '<a target=\"_blank\" href=https://colab.research.google.com/notebooks/data_table.ipynb>data table notebook</a>'\n",
              "            + ' to learn more about interactive tables.';\n",
              "          element.innerHTML = '';\n",
              "          dataTable['output_type'] = 'display_data';\n",
              "          await google.colab.output.renderOutput(dataTable, element);\n",
              "          const docLink = document.createElement('div');\n",
              "          docLink.innerHTML = docLinkHtml;\n",
              "          element.appendChild(docLink);\n",
              "        }\n",
              "      </script>\n",
              "    </div>\n",
              "  </div>\n",
              "  "
            ],
            "text/plain": [
              "   Age  Edu  Years Employed  ...  Defaulted  DebtIncomeRatio  Cluster\n",
              "0   41    2               6  ...        0.0              6.3        1\n",
              "1   47    1              26  ...        0.0             12.8        0\n",
              "2   33    2              10  ...        1.0             20.9        0\n",
              "3   29    2               4  ...        0.0              6.3        1\n",
              "4   47    1              31  ...        0.0              7.2        0\n",
              "\n",
              "[5 rows x 9 columns]"
            ]
          },
          "metadata": {},
          "execution_count": 93
        }
      ]
    },
    {
      "cell_type": "code",
      "source": [
        "# Visualize the clusters\n",
        "\n",
        "plt.scatter(df.Age, df.Edu, c = df.Cluster)\n",
        "plt.xlabel('Age')\n",
        "plt.ylabel('Education')"
      ],
      "metadata": {
        "colab": {
          "base_uri": "https://localhost:8080/",
          "height": 297
        },
        "id": "V7f4Xu4PeKZ-",
        "outputId": "2ba6fe9b-c962-4f92-bb05-a1fc8787fa07"
      },
      "execution_count": 97,
      "outputs": [
        {
          "output_type": "execute_result",
          "data": {
            "text/plain": [
              "Text(0, 0.5, 'Education')"
            ]
          },
          "metadata": {},
          "execution_count": 97
        },
        {
          "output_type": "display_data",
          "data": {
            "image/png": "[encoded data removed]",
            "text/plain": [
              "<Figure size 432x288 with 1 Axes>"
            ]
          },
          "metadata": {
            "needs_background": "light"
          }
        }
      ]
    },
    {
      "cell_type": "code",
      "source": [
        "plt.scatter(df['Years Employed'], df['Defaulted'], c = df.Cluster,)\n",
        "plt.xlabel('Years Employed')\n",
        "plt.ylabel('Defaulted')"
      ],
      "metadata": {
        "colab": {
          "base_uri": "https://localhost:8080/",
          "height": 297
        },
        "id": "Sjb8uAGOj9ef",
        "outputId": "d5a2c808-7aac-4633-edb3-8f24b9e02821"
      },
      "execution_count": 100,
      "outputs": [
        {
          "output_type": "execute_result",
          "data": {
            "text/plain": [
              "Text(0, 0.5, 'Defaulted')"
            ]
          },
          "metadata": {},
          "execution_count": 100
        },
        {
          "output_type": "display_data",
          "data": {
            "image/png": "[encoded data removed]",
            "text/plain": [
              "<Figure size 432x288 with 1 Axes>"
            ]
          },
          "metadata": {
            "needs_background": "light"
          }
        }
      ]
    },
    {
      "cell_type": "code",
      "source": [
        "plt.scatter(df['Income'], df['DebtIncomeRatio'], c = df.Cluster, s = 3)\n",
        "plt.xlabel('Income')\n",
        "plt.ylabel('DebtIncomeRatio')"
      ],
      "metadata": {
        "colab": {
          "base_uri": "https://localhost:8080/",
          "height": 297
        },
        "id": "gqjhR42CgKJR",
        "outputId": "885b146e-4ef3-4394-f7a1-b6494344d166"
      },
      "execution_count": 95,
      "outputs": [
        {
          "output_type": "execute_result",
          "data": {
            "text/plain": [
              "Text(0, 0.5, 'DebtIncomeRatio')"
            ]
          },
          "metadata": {},
          "execution_count": 95
        },
        {
          "output_type": "display_data",
          "data": {
            "image/png": "[encoded data removed]",
            "text/plain": [
              "<Figure size 432x288 with 1 Axes>"
            ]
          },
          "metadata": {
            "needs_background": "light"
          }
        }
      ]
    },
    {
      "cell_type": "code",
      "source": [
        "# import plotly\n",
        "import plotly.express as px\n",
        "\n",
        "# Create a 3D scatterplot\n",
        "fig = px.scatter_3d(df, x='Income', y='Card Debt', z='Other Debt',\n",
        "              color='Cluster', )\n",
        "\n",
        "fig.update_traces(marker=dict(size=3,\n",
        "                              line=dict(width=2,\n",
        "                                        color='DarkSlateGrey')),\n",
        "                  selector=dict(mode='markers'))\n",
        "fig.show()"
      ],
      "metadata": {
        "colab": {
          "base_uri": "https://localhost:8080/",
          "height": 542
        },
        "id": "-8qBBPt4g8lh",
        "outputId": "27b6439b-8ed1-490c-d186-f2e8a86a4c11"
      },
      "execution_count": 96,
      "outputs": [
        {
          "output_type": "display_data",
          "data": {
            "text/html": [
              "<html>\n",
              "<head><meta charset=\"utf-8\" /></head>\n",
              "<body>\n",
              "    <div>\n",
              "            <script src=\"https://cdnjs.cloudflare.com/ajax/libs/mathjax/2.7.5/MathJax.js?config=TeX-AMS-MML_SVG\"></script><script type=\"text/javascript\">if (window.MathJax) {MathJax.Hub.Config({SVG: {font: \"STIX-Web\"}});}</script>\n",
              "                <script type=\"text/javascript\">window.PlotlyConfig = {MathJaxConfig: 'local'};</script>\n",
              "        <script src=\"https://cdn.plot.ly/plotly-latest.min.js\"></script>    \n",
              "            <div id=\"8be40c93-8e10-4a2e-8960-adbb9f860e35\" class=\"plotly-graph-div\" style=\"height:525px; width:100%;\"></div>\n",
              "            <script type=\"text/javascript\">\n",
              "                \n",
              "                    window.PLOTLYENV=window.PLOTLYENV || {};\n",
              "                    \n",
              "                if (document.getElementById(\"8be40c93-8e10-4a2e-8960-adbb9f860e35\")) {\n",
              "                    Plotly.newPlot(\n",
              "                        '8be40c93-8e10-4a2e-8960-adbb9f860e35',\n",
              "                        [{\"hoverlabel\": {\"namelength\": 0}, \"hovertemplate\": \"Income=%{x}<br>Card Debt=%{y}<br>Other Debt=%{z}<br>Cluster=%{marker.color}\", \"legendgroup\": \"\", \"marker\": {\"color\": [1, 0, 0, 1, 0, 0, 1, 1, 1, 0, 1, 1, 1, 1, 1, 1, 1, 1, 0, 1, 1, 1, 1, 0, 0, 1, 1, 1, 1, 1, 0, 0, 1, 1, 1, 1, 1, 1, 1, 0, 1, 0, 1, 0, 1, 0, 1, 1, 1, 1, 0, 0, 1, 0, 0, 1, 1, 1, 1, 1, 0, 1, 0, 0, 1, 1, 1, 1, 1, 1, 1, 1, 1, 1, 1, 1, 1, 1, 0, 1, 1, 0, 0, 1, 0, 1, 1, 1, 1, 1, 1, 1, 1, 1, 1, 1, 1, 1, 1, 1, 1, 0, 1, 1, 1, 0, 1, 1, 1, 1, 1, 1, 1, 1, 1, 1, 1, 1, 0, 1, 1, 1, 1, 1, 1, 1, 1, 1, 1, 1, 1, 1, 1, 1, 1, 1, 1, 1, 1, 1, 1, 1, 1, 1, 0, 1, 0, 1, 1, 1, 1, 0, 1, 1, 1, 1, 0, 0, 1, 1, 1, 0, 1, 1, 1, 1, 1, 1, 1, 1, 0, 1, 1, 1, 1, 0, 1, 1, 1, 0, 1, 1, 1, 0, 1, 0, 1, 1, 1, 1, 1, 0, 1, 1, 1, 1, 1, 0, 0, 1, 0, 1, 1, 1, 1, 0, 1, 0, 0, 1, 1, 1, 1, 1, 1, 1, 0, 0, 1, 1, 1, 0, 1, 1, 1, 1, 0, 1, 1, 0, 1, 1, 1, 1, 0, 1, 1, 1, 0, 1, 1, 1, 1, 1, 1, 0, 1, 0, 1, 1, 1, 1, 1, 1, 0, 1, 1, 1, 1, 1, 1, 0, 1, 1, 0, 1, 1, 0, 1, 1, 1, 1, 1, 1, 1, 1, 1, 1, 1, 1, 1, 0, 0, 1, 0, 1, 0, 1, 1, 0, 1, 1, 1, 0, 1, 1, 1, 1, 1, 0, 1, 1, 1, 1, 1, 1, 0, 1, 1, 1, 1, 1, 1, 1, 1, 1, 1, 1, 1, 1, 0, 1, 0, 1, 1, 1, 1, 1, 1, 0, 1, 0, 1, 1, 1, 1, 1, 0, 1, 1, 1, 1, 1, 1, 0, 1, 1, 1, 1, 1, 0, 1, 1, 1, 1, 1, 0, 1, 1, 1, 0, 1, 1, 1, 1, 1, 1, 0, 0, 1, 1, 1, 0, 1, 1, 1, 1, 1, 1, 1, 1, 1, 1, 1, 0, 1, 0, 1, 1, 1, 1, 0, 1, 0, 1, 1, 1, 0, 1, 1, 1, 1, 1, 1, 1, 0, 1, 0, 1, 1, 1, 1, 1, 1, 1, 1, 0, 1, 0, 1, 1, 0, 1, 1, 0, 0, 1, 1, 1, 1, 0, 1, 1, 1, 0, 1, 1, 1, 0, 1, 1, 1, 1, 0, 0, 1, 1, 1, 1, 1, 0, 1, 1, 1, 0, 1, 1, 1, 1, 0, 1, 0, 1, 1, 1, 1, 1, 1, 1, 0, 0, 1, 1, 0, 1, 1, 1, 1, 1, 1, 1, 1, 1, 1, 1, 1, 1, 0, 1, 1, 1, 0, 1, 0, 1, 1, 1, 0, 1, 1, 1, 1, 0, 0, 1, 1, 1, 1, 1, 1, 1, 1, 1, 0, 1, 1, 1, 1, 1, 0, 0, 1, 1, 1, 1, 1, 1, 1, 1, 1, 1, 1, 0, 0, 1, 1, 1, 1, 1, 1, 0, 1, 1, 1, 1, 1, 1, 1, 0, 1, 0, 0, 1, 0, 1, 1, 0, 1, 1, 1, 1, 1, 1, 1, 1, 1, 0, 1, 0, 1, 1, 0, 1, 1, 1, 1, 1, 1, 1, 1, 0, 1, 1, 1, 1, 0, 1, 1, 1, 0, 1, 0, 1, 1, 1, 1, 1, 1, 1, 1, 1, 1, 1, 0, 1, 0, 1, 1, 1, 1, 1, 1, 1, 1, 1, 1, 1, 1, 1, 1, 0, 1, 1, 1, 1, 1, 1, 1, 0, 0, 0, 1, 1, 1, 0, 1, 1, 0, 1, 0, 1, 1, 0, 1, 0, 0, 0, 1, 1, 1, 1, 1, 0, 0, 1, 1, 1, 0, 0, 1, 1, 1, 1, 0, 1, 1, 1, 1, 1, 1, 0, 1, 0, 1, 1, 0, 1, 1, 1, 1, 1, 1, 1, 0, 1, 1, 1, 1, 1, 1, 1, 1, 1, 0, 1, 1, 0, 1, 1, 1, 1, 1, 1, 1, 1, 1, 1, 1, 0, 1, 0, 1, 0, 0, 1, 1, 1, 0, 1, 0, 1, 1, 1, 1, 1, 0, 1, 1, 1, 1, 0, 0, 1, 1, 0, 1, 1, 1, 1, 1, 1, 1, 1, 1, 1, 1, 0, 1, 1, 1, 1, 1, 1, 1, 1, 1, 1, 1, 0, 1, 0, 0, 1, 1, 1, 1, 1, 1, 1, 1, 1, 1, 1, 1, 1, 1, 0, 1, 1, 1, 1, 1, 1, 1, 0, 1, 1, 1, 1, 1, 1, 0, 0, 0, 1, 1, 1, 1, 1, 1, 1, 0, 1, 1, 1, 1, 1, 1, 0, 1, 1, 1, 1, 1, 1, 1, 1, 1, 1, 1, 1, 1, 1, 1, 1, 0, 0, 1, 1, 1, 0, 1, 1, 1, 1, 1, 1, 1, 1, 1, 1, 1, 1, 1, 1, 1, 1, 1, 1, 0], \"coloraxis\": \"coloraxis\", \"line\": {\"color\": \"DarkSlateGrey\", \"width\": 2}, \"size\": 3, \"symbol\": \"circle\"}, \"mode\": \"markers\", \"name\": \"\", \"scene\": \"scene\", \"showlegend\": false, \"type\": \"scatter3d\", \"x\": [19, 100, 57, 19, 253, 81, 56, 64, 18, 115, 88, 40, 18, 30, 20, 16, 17, 26, 61, 32, 25, 43, 47, 77, 123, 66, 21, 38, 59, 45, 100, 55, 42, 28, 45, 37, 37, 18, 18, 126, 14, 113, 34, 177, 27, 84, 14, 21, 19, 61, 81, 33, 19, 66, 70, 25, 20, 26, 64, 36, 60, 34, 67, 74, 20, 44, 79, 27, 23, 14, 61, 75, 98, 42, 33, 18, 45, 21, 145, 55, 68, 65, 157, 42, 51, 15, 25, 16, 31, 32, 75, 33, 21, 20, 27, 49, 27, 34, 28, 20, 33, 126, 60, 48, 22, 50, 32, 27, 54, 82, 53, 32, 39, 16, 23, 32, 18, 46, 63, 26, 21, 37, 32, 53, 42, 72, 47, 25, 21, 16, 36, 57, 25, 23, 25, 29, 86, 19, 31, 35, 41, 21, 40, 23, 68, 30, 58, 43, 42, 26, 37, 41, 31, 21, 65, 37, 113, 101, 24, 59, 20, 39, 82, 47, 22, 32, 54, 27, 24, 45, 89, 20, 28, 45, 27, 27, 55, 22, 36, 89, 46, 40, 21, 129, 15, 45, 24, 24, 41, 73, 27, 30, 75, 31, 73, 30, 16, 64, 221, 26, 113, 21, 25, 21, 27, 44, 26, 242, 95, 23, 25, 48, 57, 78, 24, 16, 68, 64, 45, 60, 21, 116, 30, 23, 21, 23, 102, 31, 29, 52, 35, 28, 56, 15, 83, 18, 40, 15, 51, 34, 28, 39, 31, 32, 26, 169, 69, 54, 45, 26, 30, 37, 31, 21, 82, 41, 39, 19, 13, 26, 23, 92, 54, 50, 64, 40, 40, 63, 28, 38, 24, 24, 40, 47, 25, 17, 28, 55, 27, 28, 26, 150, 120, 14, 100, 24, 77, 31, 101, 58, 33, 43, 23, 39, 34, 22, 20, 30, 34, 91, 73, 64, 17, 24, 22, 62, 45, 16, 40, 41, 56, 17, 22, 15, 45, 17, 27, 27, 40, 23, 91, 30, 94, 23, 16, 56, 18, 18, 105, 48, 59, 113, 21, 31, 47, 24, 17, 70, 24, 44, 39, 56, 32, 20, 75, 41, 16, 75, 21, 33, 136, 27, 42, 33, 27, 33, 102, 30, 22, 18, 186, 20, 21, 29, 73, 16, 68, 126, 120, 54, 20, 33, 72, 27, 16, 25, 30, 42, 18, 14, 30, 20, 17, 23, 144, 32, 79, 21, 36, 25, 19, 57, 39, 41, 22, 44, 23, 132, 38, 23, 24, 19, 19, 18, 25, 52, 33, 51, 97, 29, 40, 60, 44, 22, 35, 35, 65, 24, 51, 25, 53, 63, 21, 30, 70, 35, 29, 28, 38, 19, 52, 32, 15, 18, 71, 25, 27, 24, 78, 46, 44, 37, 26, 249, 55, 42, 49, 54, 43, 42, 86, 29, 26, 21, 166, 30, 17, 28, 22, 60, 39, 176, 16, 29, 35, 19, 83, 23, 60, 59, 91, 36, 46, 96, 60, 23, 54, 27, 32, 21, 52, 33, 78, 17, 25, 32, 40, 100, 16, 25, 22, 89, 35, 63, 28, 25, 18, 72, 47, 18, 37, 29, 108, 107, 26, 44, 32, 35, 68, 29, 22, 38, 34, 120, 53, 31, 22, 38, 15, 63, 60, 35, 22, 18, 38, 20, 28, 48, 18, 17, 24, 31, 446, 93, 28, 45, 23, 29, 21, 43, 116, 38, 40, 39, 45, 89, 49, 23, 99, 20, 51, 266, 25, 159, 42, 21, 254, 15, 20, 21, 46, 52, 22, 56, 27, 48, 78, 23, 67, 20, 41, 220, 31, 21, 48, 29, 21, 26, 26, 50, 60, 41, 37, 46, 44, 27, 45, 32, 26, 64, 32, 86, 44, 36, 28, 23, 16, 18, 83, 37, 35, 51, 14, 75, 26, 57, 29, 29, 28, 38, 27, 26, 20, 36, 53, 43, 42, 30, 42, 34, 75, 27, 22, 22, 17, 32, 25, 16, 66, 140, 26, 28, 66, 52, 110, 22, 30, 80, 33, 79, 16, 19, 190, 30, 76, 56, 138, 22, 28, 34, 16, 28, 116, 71, 20, 30, 28, 50, 70, 46, 26, 57, 77, 114, 32, 53, 81, 24, 24, 33, 61, 47, 234, 15, 28, 121, 43, 52, 31, 33, 44, 17, 45, 94, 24, 44, 18, 69, 29, 21, 16, 36, 28, 59, 22, 46, 65, 27, 23, 15, 20, 39, 33, 20, 16, 73, 20, 20, 73, 21, 98, 28, 68, 118, 41, 22, 34, 135, 49, 78, 26, 32, 25, 35, 50, 148, 44, 31, 23, 39, 66, 75, 48, 43, 139, 61, 20, 55, 39, 47, 33, 80, 19, 32, 40, 50, 129, 42, 14, 40, 18, 26, 36, 28, 24, 26, 25, 18, 73, 29, 100, 58, 17, 69, 16, 70, 64, 40, 33, 76, 17, 25, 24, 37, 44, 62, 62, 33, 41, 30, 46, 43, 39, 38, 76, 30, 44, 32, 27, 39, 57, 324, 67, 84, 17, 25, 24, 35, 35, 24, 22, 101, 14, 23, 38, 19, 52, 54, 62, 19, 25, 17, 20, 49, 22, 36, 27, 26, 35, 40, 24, 38, 20, 25, 26, 116, 50, 26, 22, 37, 52, 18, 43, 30, 36, 41, 24, 22, 25, 22, 25, 63, 36, 45, 43, 26, 34, 18, 28, 64], \"y\": [0.124, 4.582, 6.1110000000000015, 0.6809999999999999, 9.308, 0.998, 0.442, 0.279, 0.575, 0.653, 0.285, 0.374, 0.526, 1.415, 0.233, 0.185, 0.132, 1.519, 2.806, 0.544, 0.585, 0.961, 5.574, 2.303, 3.022, 2.341, 0.099, 2.591, 0.408, 1.118, 1.485, 2.533, 1.019, 1.263, 1.854, 1.029, 0.581, 1.584, 0.27, 1.405, 0.201, 3.3760000000000003, 3.099, 0.888, 1.403, 1.276, 0.225, 0.229, 0.261, 0.7979999999999999, 1.506, 1.266, 1.358, 0.847, 3.176, 0.573, 0.315, 0.722, 0.79, 0.835, 2.45, 2.1, 5.245, 4.522, 0.324, 1.721, 1.735, 2.472, 0.8320000000000001, 0.838, 0.55, 0.885, 2.935, 3.366, 0.6940000000000001, 0.985, 0.677, 0.37, 3.237, 0.419, 1.366, 3.9, 3.326, 0.8909999999999999, 0.5429999999999999, 0.386, 1.491, 0.433, 1.492, 0.818, 0.633, 0.103, 0.277, 0.569, 0.125, 0.254, 0.419, 0.036000000000000004, 2.594, 0.219, 1.165, 7.612999999999999, 1.056, 1.97, 1.086, 3.176, 0.07200000000000001, 1.019, 0.12, 1.315, 1.888, 2.14, 2.056, 1.009, 0.861, 1.43, 0.227, 2.4, 5.55, 0.5429999999999999, 0.369, 1.124, 0.496, 0.6940000000000001, 1.54, 0.828, 0.429, 0.339, 1.023, 0.183, 0.179, 1.143, 2.332, 0.326, 1.07, 1.844, 0.146, 1.185, 0.358, 1.584, 2.918, 0.455, 0.444, 0.762, 7.817, 1.5219999999999998, 2.8680000000000003, 3.042, 0.838, 0.07, 0.199, 0.585, 1.332, 0.068, 2.108, 4.213, 0.987, 2.992, 1.338, 3.11, 0.325, 2.801, 0.468, 2.864, 0.65, 0.025, 0.402, 0.07400000000000001, 0.311, 0.975, 5.002, 0.111, 0.122, 0.292, 0.238, 2.754, 0.856, 0.209, 3.491, 0.397, 4.004, 0.181, 0.52, 20.561, 1.961, 6.049, 0.764, 0.602, 0.899, 0.556, 3.744, 2.212, 0.022, 0.118, 1.033, 1.526, 0.15, 3.93, 15.792, 0.099, 2.381, 0.612, 1.977, 0.276, 0.416, 4.96, 0.031, 1.636, 0.633, 0.32, 0.141, 0.264, 1.357, 0.565, 0.667, 1.011, 1.017, 7.754, 0.92, 0.321, 0.488, 2.5610000000000004, 0.602, 0.468, 0.7290000000000001, 0.225, 5.782, 0.156, 1.405, 3.032, 0.233, 1.138, 4.637, 1.375, 6.589, 0.03, 0.344, 0.321, 2.6860000000000004, 0.262, 0.29100000000000004, 0.6859999999999999, 0.8809999999999999, 0.126, 0.7509999999999999, 0.349, 0.411, 4.593, 1.04, 0.377, 0.613, 0.205, 0.185, 1.402, 2.605, 5.897, 0.774, 0.279, 0.046, 1.421, 0.409, 6.506, 3.196, 0.259, 0.951, 0.563, 1.249, 5.091, 0.185, 0.129, 0.591, 0.382, 0.5720000000000001, 1.565, 0.393, 0.199, 1.787, 1.751, 0.402, 0.226, 0.13, 13.553, 2.659, 0.256, 3.704, 0.417, 5.501, 0.338, 0.341, 4.584, 0.5, 0.555, 0.077, 4.373, 0.238, 1.139, 0.377, 0.155, 0.133, 0.573, 2.869, 0.895, 0.302, 1.041, 1.739, 1.186, 2.013, 3.065, 1.803, 0.266, 0.333, 0.746, 1.092, 0.147, 0.916, 0.142, 0.7240000000000001, 1.089, 0.898, 0.898, 2.316, 0.113, 3.612, 0.242, 0.084, 0.8640000000000001, 0.514, 0.45, 1.418, 1.93, 1.808, 3.192, 0.7759999999999999, 1.986, 0.4370000000000001, 0.802, 0.012, 4.334, 1.084, 1.3330000000000002, 2.5610000000000004, 0.5429999999999999, 0.239, 0.379, 3.133, 0.941, 0.574, 2.207, 0.025, 0.778, 14.231, 0.312, 0.093, 0.146, 0.069, 0.546, 6.227, 0.324, 0.385, 0.159, 2.404, 0.174, 0.108, 0.59, 2.2230000000000003, 0.871, 0.448, 0.477, 4.14, 0.727, 0.472, 1.633, 1.182, 0.594, 0.894, 2.778, 3.646, 0.205, 0.29600000000000004, 0.233, 1.472, 0.105, 0.044, 0.141, 3.325, 0.491, 0.782, 0.4920000000000001, 0.624, 0.276, 1.245, 5.44, 0.14, 2.9960000000000004, 0.403, 1.867, 1.242, 2.5580000000000003, 1.178, 0.617, 2.173, 0.336, 0.624, 0.583, 1.177, 2.54, 1.195, 1.551, 1.827, 0.7390000000000001, 1.632, 1.721, 3.703, 1.916, 0.7809999999999999, 1.349, 2.533, 1.801, 2.412, 0.14400000000000002, 0.84, 5.715, 0.915, 0.65, 10.679, 0.5479999999999999, 0.053, 1.558, 1.383, 0.287, 4.16, 1.234, 0.119, 0.478, 6.566, 0.57, 0.295, 0.217, 4.405, 0.967, 0.071, 0.6759999999999999, 0.03, 4.273, 2.126, 2.708, 0.273, 1.5, 0.588, 0.228, 4.9910000000000005, 1.349, 1.53, 0.187, 0.821, 0.329, 2.044, 1.058, 0.551, 1.607, 0.459, 11.359000000000002, 1.085, 1.716, 0.077, 0.85, 0.32, 0.053, 0.804, 4.936, 1.256, 1.486, 2.516, 2.254, 0.468, 0.373, 0.622, 0.777, 0.927, 2.682, 1.902, 2.694, 2.157, 0.8059999999999999, 1.06, 0.433, 1.214, 5.06, 0.242, 0.124, 2.262, 2.772, 1.266, 0.936, 0.965, 0.569, 0.35200000000000004, 15.017, 1.597, 0.239, 1.16, 2.148, 5.251, 1.638, 0.28300000000000003, 0.773, 0.422, 2.124, 1.507, 2.33, 1.092, 0.636, 1.37, 14.595999999999998, 0.19, 1.617, 1.274, 0.774, 0.073, 4.638, 4.039, 1.601, 0.5660000000000001, 1.939, 0.722, 0.853, 0.345, 1.2009999999999998, 1.981, 0.521, 0.867, 2.057, 16.031, 9.542, 0.048, 0.585, 0.187, 0.264, 0.45, 2.793, 2.24, 0.029, 0.284, 2.458, 0.535, 0.159, 0.818, 0.87, 0.8270000000000001, 0.207, 3.739, 2.192, 1.77, 1.068, 1.047, 1.317, 7.002000000000002, 0.015, 1.006, 0.608, 1.262, 1.155, 1.41, 0.374, 0.5489999999999999, 1.474, 3.153, 0.252, 3.834, 0.319, 0.134, 8.166, 1.025, 1.21, 0.42, 1.425, 1.11, 0.5379999999999999, 0.888, 2.016, 9.593, 0.459, 0.083, 0.561, 0.606, 1.982, 2.739, 0.8540000000000001, 0.326, 1.45, 1.071, 1.476, 2.134, 4.5139999999999985, 2.2840000000000003, 1.104, 0.878, 0.066, 0.259, 1.3430000000000002, 0.4320000000000001, 1.875, 0.5870000000000001, 7.758999999999999, 0.93, 1.5590000000000002, 2.782, 1.065, 0.4370000000000001, 0.364, 0.674, 0.31, 0.263, 0.127, 1.195, 1.806, 2.541, 0.448, 1.4580000000000002, 0.298, 9.877, 1.275, 1.97, 1.209, 0.157, 2.697, 0.21, 0.13, 1.641, 4.184, 2.012, 0.815, 1.4680000000000002, 0.932, 5.8210000000000015, 0.721, 1.899, 2.479, 0.682, 0.28800000000000003, 0.433, 0.359, 3.157, 0.121, 0.995, 4.765, 1.222, 1.039, 0.534, 0.851, 0.27, 1.024, 1.614, 1.663, 0.622, 0.14400000000000002, 0.11, 7.32, 1.329, 0.53, 0.4320000000000001, 0.453, 1.1, 3.295, 1.168, 0.08900000000000001, 1.785, 0.442, 0.107, 2.502, 1.875, 0.399, 7.387, 0.35, 1.271, 1.365, 0.883, 0.926, 1.362, 0.795, 2.995, 0.47, 2.852, 1.734, 0.833, 0.353, 0.885, 0.7070000000000001, 0.443, 0.5670000000000001, 0.141, 0.391, 0.5529999999999999, 4.673, 0.237, 1.17, 1.985, 0.966, 0.285, 0.371, 0.7290000000000001, 1.702, 0.5529999999999999, 0.29100000000000004, 0.805, 3.752, 2.049, 0.091, 3.727, 1.3769999999999998, 4.875, 0.377, 2.857, 9.6, 0.355, 5.283, 0.398, 1.277, 0.431, 6.936, 1.295, 0.175, 1.629, 0.506, 1.044, 3.975, 0.525, 1.7009999999999998, 0.046, 1.602, 2.316, 3.955, 0.511, 0.086, 2.2880000000000003, 0.563, 0.809, 2.16, 1.143, 1.301, 4.881, 0.912, 0.19, 3.341, 0.95, 0.5589999999999999, 0.551, 0.769, 0.242, 1.896, 0.131, 0.6409999999999999, 0.7090000000000001, 2.126, 1.636, 0.122, 0.706, 0.528, 1.054, 2.527, 5.402, 3.084, 0.304, 1.061, 0.025, 1.618, 0.6509999999999999, 1.976, 0.397, 2.151, 0.569, 0.3670000000000001, 1.577, 0.18, 0.446, 0.6940000000000001, 9.703, 0.574, 0.456, 2.6630000000000003, 0.241, 1.04, 0.218, 1.897, 6.949, 0.279, 0.368, 2.105, 1.646, 1.0659999999999998, 0.878, 7.053, 3.741, 6.912000000000001, 0.447, 0.312, 1.597, 0.086, 1.969, 0.47, 0.14, 1.875, 0.302, 1.327, 0.171, 0.242, 1.497, 1.163, 2.437, 1.887, 0.596, 0.555, 0.042, 3.237, 0.631, 0.278, 0.262, 0.249, 2.383, 1.695, 0.419, 0.6940000000000001, 0.105, 1.419, 1.473, 4.027, 6.114, 1.852, 0.03, 0.8340000000000001, 2.714, 0.401, 2.649, 0.264, 0.384, 2.367, 0.552, 0.8490000000000001, 1.306, 0.37, 0.343, 0.5720000000000001, 0.273, 0.982, 0.6940000000000001, 0.5479999999999999, 0.359, 2.802, 0.116, 1.866], \"z\": [1.073, 8.218, 5.8020000000000005, 0.516, 8.908, 7.831, 0.454, 3.945, 2.215, 3.947, 5.083, 0.266, 0.643, 3.865, 1.6469999999999998, 1.287, 0.293, 1.237, 3.782, 2.944, 0.465, 4.629, 3.732, 4.165, 18.257, 3.467, 0.447, 2.539, 1.008, 3.427, 1.015, 5.7170000000000005, 0.619, 1.537, 1.611, 2.079, 1.4169999999999998, 0.738, 0.522, 7.1629999999999985, 1.157, 10.184, 4.993, 9.555, 4.348, 9.728, 2.225, 0.506, 0.518, 2.984, 2.949, 9.459, 3.278, 1.331, 10.754, 2.577, 0.645, 0.838, 3.434, 0.893, 5.77, 3.136, 2.259, 5.394, 0.416, 1.7990000000000002, 1.425, 0.363, 2.549, 1.416, 1.158, 0.54, 4.121, 3.144, 0.89, 1.337, 0.8079999999999999, 1.289, 14.453, 2.001, 5.978, 15.405, 7.0360000000000005, 2.931, 7.107, 0.424, 1.5590000000000002, 1.247, 1.05, 5.07, 1.992, 0.821, 0.248, 3.151, 0.469, 0.187, 2.119, 0.3720000000000001, 1.55, 0.721, 7.217, 9.649, 2.184, 2.35, 1.818, 11.874, 0.856, 2.869, 1.5, 1.391, 1.133, 3.492, 1.649, 1.551, 1.393, 0.682, 1.699, 1.3259999999999998, 5.916, 1.017, 2.046, 1.947, 1.264, 1.267, 2.282, 2.772, 0.464, 0.386, 3.135, 0.08900000000000001, 1.045, 4.842, 0.5429999999999999, 0.7090000000000001, 2.405, 1.346, 0.8859999999999999, 0.905, 2.649, 4.1560000000000015, 3.806, 1.372, 4.276, 1.998, 9.251, 4.448, 3.1060000000000003, 2.634, 1.556, 1.1, 0.763, 9.009, 1.551, 3.1660000000000004, 1.922, 2.151, 1.951, 2.664, 2.766, 5.504, 0.495, 4.687, 0.188, 2.259, 1.88, 0.487, 1.11, 0.16899999999999998, 0.337, 3.435, 7.725, 2.349, 0.606, 4.658, 1.112, 5.049, 2.169, 0.913, 0.973, 3.786, 3.3560000000000003, 2.699, 0.8029999999999999, 12.076, 1.984, 5.651, 0.916, 1.534, 4.39, 0.247, 1.737, 5.138, 0.053, 0.161, 1.449, 1.654, 0.938, 2.47, 23.104, 0.343, 8.015, 0.354, 1.473, 0.564, 0.28600000000000003, 0.848, 0.775, 4.6560000000000015, 2.787, 0.991, 2.134, 2.184, 1.778, 0.215, 1.877, 1.837, 7.822999999999999, 7.158, 4.525, 0.939, 2.137, 4.399, 1.138, 1.073, 1.014, 0.902, 8.6, 2.324, 5.729, 3.676, 1.517, 3.622, 4.827, 0.53, 5.0310000000000015, 0.168, 4.016, 2.094, 9.044, 1.234, 2.873, 0.562, 1.63, 1.378, 1.095, 3.369, 4.005, 1.941, 2.785, 2.847, 1.547, 5.049, 1.3030000000000002, 3.449, 1.003, 4.394, 2.424, 1.317, 0.35700000000000004, 0.893, 1.178, 5.454, 4.58, 0.941, 9.737, 2.637, 1.551, 3.3510000000000004, 1.803, 1.239, 2.4090000000000003, 0.818, 0.588, 2.007, 2.157, 0.226, 3.057, 7.324, 2.244, 2.434, 0.182, 35.197, 0.821, 1.214, 5.396, 1.455, 2.661, 1.7080000000000002, 1.073, 4.9860000000000015, 0.8859999999999999, 1.595, 0.13, 5.26, 1.258, 1.171, 1.683, 2.305, 2.757, 11.894, 2.095, 2.817, 1.041, 1.263, 1.869, 4.084, 6.447, 2.103, 5.077, 3.383, 3.2510000000000003, 1.124, 1.02, 0.243, 0.7490000000000001, 0.708, 1.166, 2.367, 1.142, 0.965, 20.616, 1.897, 6.257999999999999, 0.885, 0.108, 2.552, 2.888, 0.468, 0.5770000000000001, 4.3580000000000005, 2.912, 11.724, 1.618, 1.796, 1.913, 3.806, 0.26, 4.066, 4.0280000000000005, 1.131, 2.47, 0.521, 0.625, 3.0010000000000003, 11.042, 0.945, 1.778, 2.518, 0.101, 1.631, 17.185, 0.471, 1.167, 1.24, 0.552, 1.17, 13.050999999999998, 3.1260000000000003, 1.089, 2.955, 4.292, 4.166, 0.984, 1.324, 1.719, 1.561, 3.224, 3.429, 4.98, 1.649, 0.868, 2.7230000000000003, 4.29, 1.134, 3.666, 2.147, 2.864, 2.903, 0.748, 1.153, 1.4380000000000002, 0.595, 0.34700000000000003, 2.734, 12.659, 1.941, 5.143, 3.3510000000000004, 1.068, 0.649, 1.339, 8.126, 0.562, 9.591, 1.995, 2.357, 0.598, 1.402, 1.2919999999999998, 0.6709999999999999, 2.411, 0.5, 2.53, 1.721, 2.3480000000000003, 7.912000000000001, 1.148, 7.68, 3.993, 1.03, 1.048, 3.019, 4.261, 3.1660000000000004, 2.369, 2.221, 8.387, 1.823, 8.502, 0.856, 4.725, 4.365, 1.479, 1.63, 9.061, 5.542000000000002, 1.281, 2.5860000000000003, 4.355, 0.4920000000000001, 6.24, 4.846, 1.246, 0.908, 4.581, 0.88, 0.16399999999999998, 0.863, 7.763, 1.885, 0.677, 2.469, 2.128, 15.149, 4.144, 5.65, 0.364, 4.224, 1.82, 1.284, 17.799, 2.653, 0.472, 1.325, 18.269, 2.5810000000000004, 2.665, 1.574, 1.5830000000000002, 7.574, 1.452, 5.009, 2.7230000000000003, 3.011, 0.938, 1.202, 3.083, 1.3730000000000002, 2.076, 4.799, 9.391, 3.518, 1.67, 5.234, 0.192, 1.5590000000000002, 4.562, 0.789, 0.993, 3.387, 5.274, 2.619, 2.055, 2.356, 1.464, 0.943, 6.186, 6.44, 2.638, 1.001, 2.182, 12.714, 1.534, 9.018, 0.687, 2.031, 2.582, 14.719, 2.915, 0.823, 1.2819999999999998, 1.709, 7.4929999999999986, 4.8889999999999985, 1.485, 3.055, 1.146, 5.891, 2.437, 3.818, 1.702, 3.3160000000000003, 2.404, 17.204, 1.771, 2.661, 1.234, 1.962, 1.622, 5.064, 8.201, 3.054, 0.644, 0.725, 3.382, 0.727, 0.999, 2.927, 2.627, 2.42, 1.005, 5.29, 12.959, 4.129, 0.624, 2.7, 1.285, 1.157, 1.44, 3.657, 2.516, 0.199, 0.956, 1.481, 2.615, 0.197, 3.3960000000000004, 1.982, 1.45, 0.913, 8.399, 3.128, 0.73, 3.384, 2.565, 1.392, 12.556, 0.63, 2.954, 0.421, 1.084, 0.509, 2.132, 7.746, 0.8009999999999999, 2.174, 5.037, 0.944, 16.668, 0.7609999999999999, 5.032, 27.034, 2.571, 0.5539999999999999, 4.044, 5.593, 2.6910000000000003, 1.048, 1.634, 3.584, 6.667000000000002, 0.5660000000000001, 3.099, 1.739, 1.374, 7.548999999999999, 4.9110000000000005, 0.33, 0.74, 8.15, 1.809, 9.704, 0.462, 2.506, 7.04, 1.035, 0.274, 0.15, 3.144, 2.172, 1.143, 3.0210000000000004, 1.429, 9.716, 1.774, 9.499, 1.6840000000000002, 2.154, 3.539, 2.258, 0.784, 0.86, 0.337, 0.377, 5.96, 4.644, 5.817, 0.752, 1.65, 2.014, 7.822999999999999, 2.046, 1.33, 3.785, 0.982, 3.575, 0.965, 0.046, 4.695, 15.276, 1.524, 2.321, 0.644, 1.876, 8.039, 1.545, 2.721, 7.2810000000000015, 2.09, 5.479, 1.055, 0.458, 11.663, 1.319, 4.857, 5.707000000000002, 4.436, 1.7990000000000002, 0.474, 1.359, 0.754, 1.16, 12.422, 6.218, 0.458, 0.156, 0.254, 10.98, 5.251, 1.218, 2.168, 0.8009999999999999, 2.519, 6.395, 2.448, 1.66, 4.047, 1.142, 0.469, 0.897, 2.944, 2.844, 10.630999999999998, 0.625, 1.3330000000000002, 2.386, 1.224, 2.87, 4.001, 2.901, 3.4730000000000003, 1.06, 5.158, 3.248, 1.015, 0.395, 2.481, 3.916, 1.123, 1.008, 0.867, 0.365, 2.107, 4.177, 1.171, 1.314, 9.975, 1.194, 2.567, 1.339, 0.8909999999999999, 4.577, 1.163, 0.609, 0.731, 2.672, 1.371, 0.208, 6.7120000000000015, 1.731, 8.158999999999999, 0.8270000000000001, 10.811, 7.392, 1.039, 0.8109999999999999, 1.3019999999999998, 4.663, 0.353, 6.558, 2.215, 3.985, 0.921, 5.059, 6.306, 6.681, 0.8390000000000001, 1.926, 0.414, 2.454, 5.67, 3.845, 3.089, 0.215, 5.496, 2.914, 1.991, 1.69, 4.005, 1.848, 0.7290000000000001, 1.4880000000000002, 1.121, 4.051, 1.61, 1.541, 2.674, 6.622999999999998, 2.152, 2.424, 2.209, 1.725, 1.487, 3.11, 2.108, 2.582, 0.995, 0.552, 5.2970000000000015, 4.926, 9.198, 7.587999999999999, 1.736, 0.595, 1.143, 3.982, 1.269, 1.944, 1.913, 2.485, 0.383, 1.883, 1.6869999999999998, 0.301, 6.022, 5.134, 10.385, 2.5610000000000004, 3.439, 4.027, 0.495, 1.626, 2.005, 1.485, 8.631, 1.071, 0.556, 1.511, 1.0, 2.015, 2.314, 15.627, 5.103, 4.512, 0.182, 0.613, 1.307, 0.579, 3.806, 1.138, 0.476, 4.589, 0.748, 2.422, 3.059, 0.594, 3.287, 2.833, 6.863, 2.502, 1.279, 1.23, 0.198, 1.565, 0.777, 1.09, 0.98, 0.7390000000000001, 1.957, 2.265, 2.989, 7.286, 0.315, 1.756, 3.519, 2.585, 9.286, 1.866, 0.894, 0.831, 8.362, 1.741, 3.973, 4.4460000000000015, 2.712, 5.627999999999999, 0.96, 2.319, 0.469, 1.104, 1.082, 2.893, 0.591, 0.6829999999999999, 1.198, 1.22, 2.021, 3.21, 0.696, 3.638]}],\n",
              "                        {\"coloraxis\": {\"colorbar\": {\"title\": {\"text\": \"Cluster\"}}, \"colorscale\": [[0.0, \"#0d0887\"], [0.1111111111111111, \"#46039f\"], [0.2222222222222222, \"#7201a8\"], [0.3333333333333333, \"#9c179e\"], [0.4444444444444444, \"#bd3786\"], [0.5555555555555556, \"#d8576b\"], [0.6666666666666666, \"#ed7953\"], [0.7777777777777778, \"#fb9f3a\"], [0.8888888888888888, \"#fdca26\"], [1.0, \"#f0f921\"]]}, \"legend\": {\"tracegroupgap\": 0}, \"margin\": {\"t\": 60}, \"scene\": {\"domain\": {\"x\": [0.0, 1.0], \"y\": [0.0, 1.0]}, \"xaxis\": {\"title\": {\"text\": \"Income\"}}, \"yaxis\": {\"title\": {\"text\": \"Card Debt\"}}, \"zaxis\": {\"title\": {\"text\": \"Other Debt\"}}}, \"template\": {\"data\": {\"bar\": [{\"error_x\": {\"color\": \"#2a3f5f\"}, \"error_y\": {\"color\": \"#2a3f5f\"}, \"marker\": {\"line\": {\"color\": \"#E5ECF6\", \"width\": 0.5}}, \"type\": \"bar\"}], \"barpolar\": [{\"marker\": {\"line\": {\"color\": \"#E5ECF6\", \"width\": 0.5}}, \"type\": \"barpolar\"}], \"carpet\": [{\"aaxis\": {\"endlinecolor\": \"#2a3f5f\", \"gridcolor\": \"white\", \"linecolor\": \"white\", \"minorgridcolor\": \"white\", \"startlinecolor\": \"#2a3f5f\"}, \"baxis\": {\"endlinecolor\": \"#2a3f5f\", \"gridcolor\": \"white\", \"linecolor\": \"white\", \"minorgridcolor\": \"white\", \"startlinecolor\": \"#2a3f5f\"}, \"type\": \"carpet\"}], \"choropleth\": [{\"colorbar\": {\"outlinewidth\": 0, \"ticks\": \"\"}, \"type\": \"choropleth\"}], \"contour\": [{\"colorbar\": {\"outlinewidth\": 0, \"ticks\": \"\"}, \"colorscale\": [[0.0, \"#0d0887\"], [0.1111111111111111, \"#46039f\"], [0.2222222222222222, \"#7201a8\"], [0.3333333333333333, \"#9c179e\"], [0.4444444444444444, \"#bd3786\"], [0.5555555555555556, \"#d8576b\"], [0.6666666666666666, \"#ed7953\"], [0.7777777777777778, \"#fb9f3a\"], [0.8888888888888888, \"#fdca26\"], [1.0, \"#f0f921\"]], \"type\": \"contour\"}], \"contourcarpet\": [{\"colorbar\": {\"outlinewidth\": 0, \"ticks\": \"\"}, \"type\": \"contourcarpet\"}], \"heatmap\": [{\"colorbar\": {\"outlinewidth\": 0, \"ticks\": \"\"}, \"colorscale\": [[0.0, \"#0d0887\"], [0.1111111111111111, \"#46039f\"], [0.2222222222222222, \"#7201a8\"], [0.3333333333333333, \"#9c179e\"], [0.4444444444444444, \"#bd3786\"], [0.5555555555555556, \"#d8576b\"], [0.6666666666666666, \"#ed7953\"], [0.7777777777777778, \"#fb9f3a\"], [0.8888888888888888, \"#fdca26\"], [1.0, \"#f0f921\"]], \"type\": \"heatmap\"}], \"heatmapgl\": [{\"colorbar\": {\"outlinewidth\": 0, \"ticks\": \"\"}, \"colorscale\": [[0.0, \"#0d0887\"], [0.1111111111111111, \"#46039f\"], [0.2222222222222222, \"#7201a8\"], [0.3333333333333333, \"#9c179e\"], [0.4444444444444444, \"#bd3786\"], [0.5555555555555556, \"#d8576b\"], [0.6666666666666666, \"#ed7953\"], [0.7777777777777778, \"#fb9f3a\"], [0.8888888888888888, \"#fdca26\"], [1.0, \"#f0f921\"]], \"type\": \"heatmapgl\"}], \"histogram\": [{\"marker\": {\"colorbar\": {\"outlinewidth\": 0, \"ticks\": \"\"}}, \"type\": \"histogram\"}], \"histogram2d\": [{\"colorbar\": {\"outlinewidth\": 0, \"ticks\": \"\"}, \"colorscale\": [[0.0, \"#0d0887\"], [0.1111111111111111, \"#46039f\"], [0.2222222222222222, \"#7201a8\"], [0.3333333333333333, \"#9c179e\"], [0.4444444444444444, \"#bd3786\"], [0.5555555555555556, \"#d8576b\"], [0.6666666666666666, \"#ed7953\"], [0.7777777777777778, \"#fb9f3a\"], [0.8888888888888888, \"#fdca26\"], [1.0, \"#f0f921\"]], \"type\": \"histogram2d\"}], \"histogram2dcontour\": [{\"colorbar\": {\"outlinewidth\": 0, \"ticks\": \"\"}, \"colorscale\": [[0.0, \"#0d0887\"], [0.1111111111111111, \"#46039f\"], [0.2222222222222222, \"#7201a8\"], [0.3333333333333333, \"#9c179e\"], [0.4444444444444444, \"#bd3786\"], [0.5555555555555556, \"#d8576b\"], [0.6666666666666666, \"#ed7953\"], [0.7777777777777778, \"#fb9f3a\"], [0.8888888888888888, \"#fdca26\"], [1.0, \"#f0f921\"]], \"type\": \"histogram2dcontour\"}], \"mesh3d\": [{\"colorbar\": {\"outlinewidth\": 0, \"ticks\": \"\"}, \"type\": \"mesh3d\"}], \"parcoords\": [{\"line\": {\"colorbar\": {\"outlinewidth\": 0, \"ticks\": \"\"}}, \"type\": \"parcoords\"}], \"pie\": [{\"automargin\": true, \"type\": \"pie\"}], \"scatter\": [{\"marker\": {\"colorbar\": {\"outlinewidth\": 0, \"ticks\": \"\"}}, \"type\": \"scatter\"}], \"scatter3d\": [{\"line\": {\"colorbar\": {\"outlinewidth\": 0, \"ticks\": \"\"}}, \"marker\": {\"colorbar\": {\"outlinewidth\": 0, \"ticks\": \"\"}}, \"type\": \"scatter3d\"}], \"scattercarpet\": [{\"marker\": {\"colorbar\": {\"outlinewidth\": 0, \"ticks\": \"\"}}, \"type\": \"scattercarpet\"}], \"scattergeo\": [{\"marker\": {\"colorbar\": {\"outlinewidth\": 0, \"ticks\": \"\"}}, \"type\": \"scattergeo\"}], \"scattergl\": [{\"marker\": {\"colorbar\": {\"outlinewidth\": 0, \"ticks\": \"\"}}, \"type\": \"scattergl\"}], \"scattermapbox\": [{\"marker\": {\"colorbar\": {\"outlinewidth\": 0, \"ticks\": \"\"}}, \"type\": \"scattermapbox\"}], \"scatterpolar\": [{\"marker\": {\"colorbar\": {\"outlinewidth\": 0, \"ticks\": \"\"}}, \"type\": \"scatterpolar\"}], \"scatterpolargl\": [{\"marker\": {\"colorbar\": {\"outlinewidth\": 0, \"ticks\": \"\"}}, \"type\": \"scatterpolargl\"}], \"scatterternary\": [{\"marker\": {\"colorbar\": {\"outlinewidth\": 0, \"ticks\": \"\"}}, \"type\": \"scatterternary\"}], \"surface\": [{\"colorbar\": {\"outlinewidth\": 0, \"ticks\": \"\"}, \"colorscale\": [[0.0, \"#0d0887\"], [0.1111111111111111, \"#46039f\"], [0.2222222222222222, \"#7201a8\"], [0.3333333333333333, \"#9c179e\"], [0.4444444444444444, \"#bd3786\"], [0.5555555555555556, \"#d8576b\"], [0.6666666666666666, \"#ed7953\"], [0.7777777777777778, \"#fb9f3a\"], [0.8888888888888888, \"#fdca26\"], [1.0, \"#f0f921\"]], \"type\": \"surface\"}], \"table\": [{\"cells\": {\"fill\": {\"color\": \"#EBF0F8\"}, \"line\": {\"color\": \"white\"}}, \"header\": {\"fill\": {\"color\": \"#C8D4E3\"}, \"line\": {\"color\": \"white\"}}, \"type\": \"table\"}]}, \"layout\": {\"annotationdefaults\": {\"arrowcolor\": \"#2a3f5f\", \"arrowhead\": 0, \"arrowwidth\": 1}, \"coloraxis\": {\"colorbar\": {\"outlinewidth\": 0, \"ticks\": \"\"}}, \"colorscale\": {\"diverging\": [[0, \"#8e0152\"], [0.1, \"#c51b7d\"], [0.2, \"#de77ae\"], [0.3, \"#f1b6da\"], [0.4, \"#fde0ef\"], [0.5, \"#f7f7f7\"], [0.6, \"#e6f5d0\"], [0.7, \"#b8e186\"], [0.8, \"#7fbc41\"], [0.9, \"#4d9221\"], [1, \"#276419\"]], \"sequential\": [[0.0, \"#0d0887\"], [0.1111111111111111, \"#46039f\"], [0.2222222222222222, \"#7201a8\"], [0.3333333333333333, \"#9c179e\"], [0.4444444444444444, \"#bd3786\"], [0.5555555555555556, \"#d8576b\"], [0.6666666666666666, \"#ed7953\"], [0.7777777777777778, \"#fb9f3a\"], [0.8888888888888888, \"#fdca26\"], [1.0, \"#f0f921\"]], \"sequentialminus\": [[0.0, \"#0d0887\"], [0.1111111111111111, \"#46039f\"], [0.2222222222222222, \"#7201a8\"], [0.3333333333333333, \"#9c179e\"], [0.4444444444444444, \"#bd3786\"], [0.5555555555555556, \"#d8576b\"], [0.6666666666666666, \"#ed7953\"], [0.7777777777777778, \"#fb9f3a\"], [0.8888888888888888, \"#fdca26\"], [1.0, \"#f0f921\"]]}, \"colorway\": [\"#636efa\", \"#EF553B\", \"#00cc96\", \"#ab63fa\", \"#FFA15A\", \"#19d3f3\", \"#FF6692\", \"#B6E880\", \"#FF97FF\", \"#FECB52\"], \"font\": {\"color\": \"#2a3f5f\"}, \"geo\": {\"bgcolor\": \"white\", \"lakecolor\": \"white\", \"landcolor\": \"#E5ECF6\", \"showlakes\": true, \"showland\": true, \"subunitcolor\": \"white\"}, \"hoverlabel\": {\"align\": \"left\"}, \"hovermode\": \"closest\", \"mapbox\": {\"style\": \"light\"}, \"paper_bgcolor\": \"white\", \"plot_bgcolor\": \"#E5ECF6\", \"polar\": {\"angularaxis\": {\"gridcolor\": \"white\", \"linecolor\": \"white\", \"ticks\": \"\"}, \"bgcolor\": \"#E5ECF6\", \"radialaxis\": {\"gridcolor\": \"white\", \"linecolor\": \"white\", \"ticks\": \"\"}}, \"scene\": {\"xaxis\": {\"backgroundcolor\": \"#E5ECF6\", \"gridcolor\": \"white\", \"gridwidth\": 2, \"linecolor\": \"white\", \"showbackground\": true, \"ticks\": \"\", \"zerolinecolor\": \"white\"}, \"yaxis\": {\"backgroundcolor\": \"#E5ECF6\", \"gridcolor\": \"white\", \"gridwidth\": 2, \"linecolor\": \"white\", \"showbackground\": true, \"ticks\": \"\", \"zerolinecolor\": \"white\"}, \"zaxis\": {\"backgroundcolor\": \"#E5ECF6\", \"gridcolor\": \"white\", \"gridwidth\": 2, \"linecolor\": \"white\", \"showbackground\": true, \"ticks\": \"\", \"zerolinecolor\": \"white\"}}, \"shapedefaults\": {\"line\": {\"color\": \"#2a3f5f\"}}, \"ternary\": {\"aaxis\": {\"gridcolor\": \"white\", \"linecolor\": \"white\", \"ticks\": \"\"}, \"baxis\": {\"gridcolor\": \"white\", \"linecolor\": \"white\", \"ticks\": \"\"}, \"bgcolor\": \"#E5ECF6\", \"caxis\": {\"gridcolor\": \"white\", \"linecolor\": \"white\", \"ticks\": \"\"}}, \"title\": {\"x\": 0.05}, \"xaxis\": {\"automargin\": true, \"gridcolor\": \"white\", \"linecolor\": \"white\", \"ticks\": \"\", \"title\": {\"standoff\": 15}, \"zerolinecolor\": \"white\", \"zerolinewidth\": 2}, \"yaxis\": {\"automargin\": true, \"gridcolor\": \"white\", \"linecolor\": \"white\", \"ticks\": \"\", \"title\": {\"standoff\": 15}, \"zerolinecolor\": \"white\", \"zerolinewidth\": 2}}}},\n",
              "                        {\"responsive\": true}\n",
              "                    ).then(function(){\n",
              "                            \n",
              "var gd = document.getElementById('8be40c93-8e10-4a2e-8960-adbb9f860e35');\n",
              "var x = new MutationObserver(function (mutations, observer) {{\n",
              "        var display = window.getComputedStyle(gd).display;\n",
              "        if (!display || display === 'none') {{\n",
              "            console.log([gd, 'removed!']);\n",
              "            Plotly.purge(gd);\n",
              "            observer.disconnect();\n",
              "        }}\n",
              "}});\n",
              "\n",
              "// Listen for the removal of the full notebook cells\n",
              "var notebookContainer = gd.closest('#notebook-container');\n",
              "if (notebookContainer) {{\n",
              "    x.observe(notebookContainer, {childList: true});\n",
              "}}\n",
              "\n",
              "// Listen for the clearing of the current output cell\n",
              "var outputEl = gd.closest('.output');\n",
              "if (outputEl) {{\n",
              "    x.observe(outputEl, {childList: true});\n",
              "}}\n",
              "\n",
              "                        })\n",
              "                };\n",
              "                \n",
              "            </script>\n",
              "        </div>\n",
              "</body>\n",
              "</html>"
            ]
          },
          "metadata": {}
        }
      ]
    },
    {
      "cell_type": "markdown",
      "source": [
        "The dataset is divided into two clusters and we can se that the segmentation divide heavily depends on the customer's characteristics related to money such as Debt and income."
      ],
      "metadata": {
        "id": "aNsjbq8Ui0BV"
      }
    },
    {
      "cell_type": "code",
      "source": [
        "# silhouette_score for the Kmeans\n",
        "silhouette_score(scaled_df, kmeans.labels_)"
      ],
      "metadata": {
        "colab": {
          "base_uri": "https://localhost:8080/"
        },
        "id": "gzAYiNELtGEb",
        "outputId": "376ae0be-bc61-4dbe-9a21-32c14e70f4d8"
      },
      "execution_count": 102,
      "outputs": [
        {
          "output_type": "execute_result",
          "data": {
            "text/plain": [
              "0.34498024193061866"
            ]
          },
          "metadata": {},
          "execution_count": 102
        }
      ]
    },
    {
      "cell_type": "markdown",
      "source": [
        "# Other Clustering Models\n"
      ],
      "metadata": {
        "id": "3stik9TRssRw"
      }
    },
    {
      "cell_type": "code",
      "source": [
        "# Hierarchical clustering\n",
        "hc = AgglomerativeClustering(n_clusters = 2)\n",
        "hc.fit(scaled_df)\n",
        "silhouette_score(scaled_df, hc.labels_)"
      ],
      "metadata": {
        "colab": {
          "base_uri": "https://localhost:8080/"
        },
        "id": "L92E5Wf8svWK",
        "outputId": "123c9147-895e-49ab-9fc2-f843752b4482"
      },
      "execution_count": 103,
      "outputs": [
        {
          "output_type": "execute_result",
          "data": {
            "text/plain": [
              "0.3755129973554509"
            ]
          },
          "metadata": {},
          "execution_count": 103
        }
      ]
    },
    {
      "cell_type": "code",
      "source": [
        "# DBSCAN clustering\n",
        "dbs = DBSCAN(eps = 0.5, min_samples = 10).fit(scaled_df)\n",
        "silhouette_score(scaled_df, dbs.labels_)"
      ],
      "metadata": {
        "colab": {
          "base_uri": "https://localhost:8080/"
        },
        "id": "hLb-Ui0KtV3r",
        "outputId": "5d1db948-fb28-4d10-ef82-54c5193ab7e6"
      },
      "execution_count": 115,
      "outputs": [
        {
          "output_type": "execute_result",
          "data": {
            "text/plain": [
              "-0.120144899009974"
            ]
          },
          "metadata": {},
          "execution_count": 115
        }
      ]
    },
    {
      "cell_type": "markdown",
      "source": [
        "Of the three models used, the Hierarchical clustering model performed the best for this data using 2 clusters with the highest silhouette score. The worst on the other hand is the DBSCAN wit a negative silhouete score."
      ],
      "metadata": {
        "id": "Ure-0YSyt1Bx"
      }
    }
  ]
}